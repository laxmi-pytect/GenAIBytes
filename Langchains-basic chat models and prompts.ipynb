{
 "cells": [
  {
   "cell_type": "code",
   "execution_count": null,
   "id": "eba03aaf-3f46-4c8f-8e76-bd37bac73d25",
   "metadata": {},
   "outputs": [],
   "source": [
    "###Langchain, Langgraph####"
   ]
  },
  {
   "cell_type": "code",
   "execution_count": 13,
   "id": "5b973880-9d72-40b8-8b14-51bc93c96c9e",
   "metadata": {
    "scrolled": true
   },
   "outputs": [
    {
     "name": "stdout",
     "output_type": "stream",
     "text": [
      "Requirement already satisfied: langchain-google-genai in /opt/homebrew/Cellar/jupyterlab/4.4.3/libexec/lib/python3.13/site-packages (2.0.10)\n",
      "Requirement already satisfied: filetype<2.0.0,>=1.2.0 in /opt/homebrew/Cellar/jupyterlab/4.4.3/libexec/lib/python3.13/site-packages (from langchain-google-genai) (1.2.0)\n",
      "Requirement already satisfied: google-generativeai<0.9.0,>=0.8.0 in /opt/homebrew/Cellar/jupyterlab/4.4.3/libexec/lib/python3.13/site-packages (from langchain-google-genai) (0.8.5)\n",
      "Requirement already satisfied: langchain-core<0.4.0,>=0.3.37 in /opt/homebrew/Cellar/jupyterlab/4.4.3/libexec/lib/python3.13/site-packages (from langchain-google-genai) (0.3.65)\n",
      "Requirement already satisfied: pydantic<3,>=2 in /opt/homebrew/Cellar/jupyterlab/4.4.3/libexec/lib/python3.13/site-packages (from langchain-google-genai) (2.11.5)\n",
      "Requirement already satisfied: google-ai-generativelanguage==0.6.15 in /opt/homebrew/Cellar/jupyterlab/4.4.3/libexec/lib/python3.13/site-packages (from google-generativeai<0.9.0,>=0.8.0->langchain-google-genai) (0.6.15)\n",
      "Requirement already satisfied: google-api-core in /opt/homebrew/Cellar/jupyterlab/4.4.3/libexec/lib/python3.13/site-packages (from google-generativeai<0.9.0,>=0.8.0->langchain-google-genai) (2.25.0rc1)\n",
      "Requirement already satisfied: google-api-python-client in /opt/homebrew/Cellar/jupyterlab/4.4.3/libexec/lib/python3.13/site-packages (from google-generativeai<0.9.0,>=0.8.0->langchain-google-genai) (2.170.0)\n",
      "Requirement already satisfied: google-auth>=2.15.0 in /opt/homebrew/Cellar/jupyterlab/4.4.3/libexec/lib/python3.13/site-packages (from google-generativeai<0.9.0,>=0.8.0->langchain-google-genai) (2.40.2)\n",
      "Requirement already satisfied: protobuf in /opt/homebrew/Cellar/jupyterlab/4.4.3/libexec/lib/python3.13/site-packages (from google-generativeai<0.9.0,>=0.8.0->langchain-google-genai) (5.29.5)\n",
      "Requirement already satisfied: tqdm in /opt/homebrew/Cellar/jupyterlab/4.4.3/libexec/lib/python3.13/site-packages (from google-generativeai<0.9.0,>=0.8.0->langchain-google-genai) (4.67.1)\n",
      "Requirement already satisfied: typing-extensions in /opt/homebrew/Cellar/jupyterlab/4.4.3/libexec/lib/python3.13/site-packages (from google-generativeai<0.9.0,>=0.8.0->langchain-google-genai) (4.14.0)\n",
      "Requirement already satisfied: proto-plus<2.0.0dev,>=1.22.3 in /opt/homebrew/Cellar/jupyterlab/4.4.3/libexec/lib/python3.13/site-packages (from google-ai-generativelanguage==0.6.15->google-generativeai<0.9.0,>=0.8.0->langchain-google-genai) (1.26.1)\n",
      "Requirement already satisfied: googleapis-common-protos<2.0.0,>=1.56.2 in /opt/homebrew/Cellar/jupyterlab/4.4.3/libexec/lib/python3.13/site-packages (from google-api-core->google-generativeai<0.9.0,>=0.8.0->langchain-google-genai) (1.70.0)\n",
      "Requirement already satisfied: requests<3.0.0,>=2.18.0 in /opt/homebrew/Cellar/jupyterlab/4.4.3/libexec/lib/python3.13/site-packages (from google-api-core->google-generativeai<0.9.0,>=0.8.0->langchain-google-genai) (2.32.3)\n",
      "Requirement already satisfied: grpcio<2.0.0,>=1.33.2 in /opt/homebrew/Cellar/jupyterlab/4.4.3/libexec/lib/python3.13/site-packages (from google-api-core[grpc]!=2.0.*,!=2.1.*,!=2.10.*,!=2.2.*,!=2.3.*,!=2.4.*,!=2.5.*,!=2.6.*,!=2.7.*,!=2.8.*,!=2.9.*,<3.0.0dev,>=1.34.1->google-ai-generativelanguage==0.6.15->google-generativeai<0.9.0,>=0.8.0->langchain-google-genai) (1.71.0)\n",
      "Requirement already satisfied: grpcio-status<2.0.0,>=1.33.2 in /opt/homebrew/Cellar/jupyterlab/4.4.3/libexec/lib/python3.13/site-packages (from google-api-core[grpc]!=2.0.*,!=2.1.*,!=2.10.*,!=2.2.*,!=2.3.*,!=2.4.*,!=2.5.*,!=2.6.*,!=2.7.*,!=2.8.*,!=2.9.*,<3.0.0dev,>=1.34.1->google-ai-generativelanguage==0.6.15->google-generativeai<0.9.0,>=0.8.0->langchain-google-genai) (1.71.0)\n",
      "Requirement already satisfied: cachetools<6.0,>=2.0.0 in /opt/homebrew/Cellar/jupyterlab/4.4.3/libexec/lib/python3.13/site-packages (from google-auth>=2.15.0->google-generativeai<0.9.0,>=0.8.0->langchain-google-genai) (5.5.2)\n",
      "Requirement already satisfied: pyasn1-modules>=0.2.1 in /opt/homebrew/Cellar/jupyterlab/4.4.3/libexec/lib/python3.13/site-packages (from google-auth>=2.15.0->google-generativeai<0.9.0,>=0.8.0->langchain-google-genai) (0.4.2)\n",
      "Requirement already satisfied: rsa<5,>=3.1.4 in /opt/homebrew/Cellar/jupyterlab/4.4.3/libexec/lib/python3.13/site-packages (from google-auth>=2.15.0->google-generativeai<0.9.0,>=0.8.0->langchain-google-genai) (4.9.1)\n",
      "Requirement already satisfied: langsmith<0.4,>=0.3.45 in /opt/homebrew/Cellar/jupyterlab/4.4.3/libexec/lib/python3.13/site-packages (from langchain-core<0.4.0,>=0.3.37->langchain-google-genai) (0.3.45)\n",
      "Requirement already satisfied: tenacity!=8.4.0,<10.0.0,>=8.1.0 in /opt/homebrew/Cellar/jupyterlab/4.4.3/libexec/lib/python3.13/site-packages (from langchain-core<0.4.0,>=0.3.37->langchain-google-genai) (9.1.2)\n",
      "Requirement already satisfied: jsonpatch<2.0,>=1.33 in /opt/homebrew/Cellar/jupyterlab/4.4.3/libexec/lib/python3.13/site-packages (from langchain-core<0.4.0,>=0.3.37->langchain-google-genai) (1.33)\n",
      "Requirement already satisfied: PyYAML>=5.3 in /opt/homebrew/Cellar/jupyterlab/4.4.3/libexec/lib/python3.13/site-packages (from langchain-core<0.4.0,>=0.3.37->langchain-google-genai) (6.0.2)\n",
      "Requirement already satisfied: packaging<25,>=23.2 in /opt/homebrew/Cellar/jupyterlab/4.4.3/libexec/lib/python3.13/site-packages (from langchain-core<0.4.0,>=0.3.37->langchain-google-genai) (24.2)\n",
      "Requirement already satisfied: jsonpointer>=1.9 in /opt/homebrew/Cellar/jupyterlab/4.4.3/libexec/lib/python3.13/site-packages (from jsonpatch<2.0,>=1.33->langchain-core<0.4.0,>=0.3.37->langchain-google-genai) (3.0.0)\n",
      "Requirement already satisfied: httpx<1,>=0.23.0 in /opt/homebrew/Cellar/jupyterlab/4.4.3/libexec/lib/python3.13/site-packages (from langsmith<0.4,>=0.3.45->langchain-core<0.4.0,>=0.3.37->langchain-google-genai) (0.28.1)\n",
      "Requirement already satisfied: orjson<4.0.0,>=3.9.14 in /opt/homebrew/Cellar/jupyterlab/4.4.3/libexec/lib/python3.13/site-packages (from langsmith<0.4,>=0.3.45->langchain-core<0.4.0,>=0.3.37->langchain-google-genai) (3.10.18)\n",
      "Requirement already satisfied: requests-toolbelt<2.0.0,>=1.0.0 in /opt/homebrew/Cellar/jupyterlab/4.4.3/libexec/lib/python3.13/site-packages (from langsmith<0.4,>=0.3.45->langchain-core<0.4.0,>=0.3.37->langchain-google-genai) (1.0.0)\n",
      "Requirement already satisfied: zstandard<0.24.0,>=0.23.0 in /opt/homebrew/Cellar/jupyterlab/4.4.3/libexec/lib/python3.13/site-packages (from langsmith<0.4,>=0.3.45->langchain-core<0.4.0,>=0.3.37->langchain-google-genai) (0.23.0)\n",
      "Requirement already satisfied: anyio in /opt/homebrew/Cellar/jupyterlab/4.4.3/libexec/lib/python3.13/site-packages (from httpx<1,>=0.23.0->langsmith<0.4,>=0.3.45->langchain-core<0.4.0,>=0.3.37->langchain-google-genai) (4.9.0)\n",
      "Requirement already satisfied: certifi in /opt/homebrew/Cellar/jupyterlab/4.4.3/libexec/lib/python3.13/site-packages (from httpx<1,>=0.23.0->langsmith<0.4,>=0.3.45->langchain-core<0.4.0,>=0.3.37->langchain-google-genai) (2025.4.26)\n",
      "Requirement already satisfied: httpcore==1.* in /opt/homebrew/Cellar/jupyterlab/4.4.3/libexec/lib/python3.13/site-packages (from httpx<1,>=0.23.0->langsmith<0.4,>=0.3.45->langchain-core<0.4.0,>=0.3.37->langchain-google-genai) (1.0.9)\n",
      "Requirement already satisfied: idna in /opt/homebrew/Cellar/jupyterlab/4.4.3/libexec/lib/python3.13/site-packages (from httpx<1,>=0.23.0->langsmith<0.4,>=0.3.45->langchain-core<0.4.0,>=0.3.37->langchain-google-genai) (3.10)\n",
      "Requirement already satisfied: h11>=0.16 in /opt/homebrew/Cellar/jupyterlab/4.4.3/libexec/lib/python3.13/site-packages (from httpcore==1.*->httpx<1,>=0.23.0->langsmith<0.4,>=0.3.45->langchain-core<0.4.0,>=0.3.37->langchain-google-genai) (0.16.0)\n",
      "Requirement already satisfied: annotated-types>=0.6.0 in /opt/homebrew/Cellar/jupyterlab/4.4.3/libexec/lib/python3.13/site-packages (from pydantic<3,>=2->langchain-google-genai) (0.7.0)\n",
      "Requirement already satisfied: pydantic-core==2.33.2 in /opt/homebrew/Cellar/jupyterlab/4.4.3/libexec/lib/python3.13/site-packages (from pydantic<3,>=2->langchain-google-genai) (2.33.2)\n",
      "Requirement already satisfied: typing-inspection>=0.4.0 in /opt/homebrew/Cellar/jupyterlab/4.4.3/libexec/lib/python3.13/site-packages (from pydantic<3,>=2->langchain-google-genai) (0.4.1)\n",
      "Requirement already satisfied: charset_normalizer<4,>=2 in /opt/homebrew/Cellar/jupyterlab/4.4.3/libexec/lib/python3.13/site-packages (from requests<3.0.0,>=2.18.0->google-api-core->google-generativeai<0.9.0,>=0.8.0->langchain-google-genai) (3.4.2)\n",
      "Requirement already satisfied: urllib3<3,>=1.21.1 in /opt/homebrew/Cellar/jupyterlab/4.4.3/libexec/lib/python3.13/site-packages (from requests<3.0.0,>=2.18.0->google-api-core->google-generativeai<0.9.0,>=0.8.0->langchain-google-genai) (2.4.0)\n",
      "Requirement already satisfied: pyasn1>=0.1.3 in /opt/homebrew/Cellar/jupyterlab/4.4.3/libexec/lib/python3.13/site-packages (from rsa<5,>=3.1.4->google-auth>=2.15.0->google-generativeai<0.9.0,>=0.8.0->langchain-google-genai) (0.6.1)\n",
      "Requirement already satisfied: sniffio>=1.1 in /opt/homebrew/Cellar/jupyterlab/4.4.3/libexec/lib/python3.13/site-packages (from anyio->httpx<1,>=0.23.0->langsmith<0.4,>=0.3.45->langchain-core<0.4.0,>=0.3.37->langchain-google-genai) (1.3.1)\n",
      "Requirement already satisfied: httplib2<1.0.0,>=0.19.0 in /opt/homebrew/Cellar/jupyterlab/4.4.3/libexec/lib/python3.13/site-packages (from google-api-python-client->google-generativeai<0.9.0,>=0.8.0->langchain-google-genai) (0.22.0)\n",
      "Requirement already satisfied: google-auth-httplib2<1.0.0,>=0.2.0 in /opt/homebrew/Cellar/jupyterlab/4.4.3/libexec/lib/python3.13/site-packages (from google-api-python-client->google-generativeai<0.9.0,>=0.8.0->langchain-google-genai) (0.2.0)\n",
      "Requirement already satisfied: uritemplate<5,>=3.0.1 in /opt/homebrew/Cellar/jupyterlab/4.4.3/libexec/lib/python3.13/site-packages (from google-api-python-client->google-generativeai<0.9.0,>=0.8.0->langchain-google-genai) (4.1.1)\n",
      "Requirement already satisfied: pyparsing!=3.0.0,!=3.0.1,!=3.0.2,!=3.0.3,<4,>=2.4.2 in /opt/homebrew/Cellar/jupyterlab/4.4.3/libexec/lib/python3.13/site-packages (from httplib2<1.0.0,>=0.19.0->google-api-python-client->google-generativeai<0.9.0,>=0.8.0->langchain-google-genai) (3.2.3)\n",
      "Note: you may need to restart the kernel to use updated packages.\n"
     ]
    }
   ],
   "source": [
    "\n",
    "%pip install langchain-google-genai"
   ]
  },
  {
   "cell_type": "code",
   "execution_count": 14,
   "id": "98b19bff-2a87-4500-8ce2-3502c274caa1",
   "metadata": {},
   "outputs": [
    {
     "name": "stdout",
     "output_type": "stream",
     "text": [
      "Found existing installation: google-ai-generativelanguage 0.6.15\n",
      "Uninstalling google-ai-generativelanguage-0.6.15:\n",
      "  Successfully uninstalled google-ai-generativelanguage-0.6.15\n",
      "Found existing installation: google-generativeai 0.8.5\n",
      "Uninstalling google-generativeai-0.8.5:\n",
      "  Successfully uninstalled google-generativeai-0.8.5\n",
      "Found existing installation: langchain-google-genai 2.0.10\n",
      "Uninstalling langchain-google-genai-2.0.10:\n",
      "  Successfully uninstalled langchain-google-genai-2.0.10\n",
      "Note: you may need to restart the kernel to use updated packages.\n",
      "Collecting google-ai-generativelanguage==0.6.15\n",
      "  Using cached google_ai_generativelanguage-0.6.15-py3-none-any.whl.metadata (5.7 kB)\n",
      "Requirement already satisfied: google-api-core!=2.0.*,!=2.1.*,!=2.10.*,!=2.2.*,!=2.3.*,!=2.4.*,!=2.5.*,!=2.6.*,!=2.7.*,!=2.8.*,!=2.9.*,<3.0.0dev,>=1.34.1 in /opt/homebrew/Cellar/jupyterlab/4.4.3/libexec/lib/python3.13/site-packages (from google-api-core[grpc]!=2.0.*,!=2.1.*,!=2.10.*,!=2.2.*,!=2.3.*,!=2.4.*,!=2.5.*,!=2.6.*,!=2.7.*,!=2.8.*,!=2.9.*,<3.0.0dev,>=1.34.1->google-ai-generativelanguage==0.6.15) (2.25.0rc1)\n",
      "Requirement already satisfied: google-auth!=2.24.0,!=2.25.0,<3.0.0dev,>=2.14.1 in /opt/homebrew/Cellar/jupyterlab/4.4.3/libexec/lib/python3.13/site-packages (from google-ai-generativelanguage==0.6.15) (2.40.2)\n",
      "Requirement already satisfied: proto-plus<2.0.0dev,>=1.22.3 in /opt/homebrew/Cellar/jupyterlab/4.4.3/libexec/lib/python3.13/site-packages (from google-ai-generativelanguage==0.6.15) (1.26.1)\n",
      "Requirement already satisfied: protobuf!=4.21.0,!=4.21.1,!=4.21.2,!=4.21.3,!=4.21.4,!=4.21.5,<6.0.0dev,>=3.20.2 in /opt/homebrew/Cellar/jupyterlab/4.4.3/libexec/lib/python3.13/site-packages (from google-ai-generativelanguage==0.6.15) (5.29.5)\n",
      "Requirement already satisfied: googleapis-common-protos<2.0.0,>=1.56.2 in /opt/homebrew/Cellar/jupyterlab/4.4.3/libexec/lib/python3.13/site-packages (from google-api-core!=2.0.*,!=2.1.*,!=2.10.*,!=2.2.*,!=2.3.*,!=2.4.*,!=2.5.*,!=2.6.*,!=2.7.*,!=2.8.*,!=2.9.*,<3.0.0dev,>=1.34.1->google-api-core[grpc]!=2.0.*,!=2.1.*,!=2.10.*,!=2.2.*,!=2.3.*,!=2.4.*,!=2.5.*,!=2.6.*,!=2.7.*,!=2.8.*,!=2.9.*,<3.0.0dev,>=1.34.1->google-ai-generativelanguage==0.6.15) (1.70.0)\n",
      "Requirement already satisfied: requests<3.0.0,>=2.18.0 in /opt/homebrew/Cellar/jupyterlab/4.4.3/libexec/lib/python3.13/site-packages (from google-api-core!=2.0.*,!=2.1.*,!=2.10.*,!=2.2.*,!=2.3.*,!=2.4.*,!=2.5.*,!=2.6.*,!=2.7.*,!=2.8.*,!=2.9.*,<3.0.0dev,>=1.34.1->google-api-core[grpc]!=2.0.*,!=2.1.*,!=2.10.*,!=2.2.*,!=2.3.*,!=2.4.*,!=2.5.*,!=2.6.*,!=2.7.*,!=2.8.*,!=2.9.*,<3.0.0dev,>=1.34.1->google-ai-generativelanguage==0.6.15) (2.32.3)\n",
      "Requirement already satisfied: grpcio<2.0.0,>=1.33.2 in /opt/homebrew/Cellar/jupyterlab/4.4.3/libexec/lib/python3.13/site-packages (from google-api-core[grpc]!=2.0.*,!=2.1.*,!=2.10.*,!=2.2.*,!=2.3.*,!=2.4.*,!=2.5.*,!=2.6.*,!=2.7.*,!=2.8.*,!=2.9.*,<3.0.0dev,>=1.34.1->google-ai-generativelanguage==0.6.15) (1.71.0)\n",
      "Requirement already satisfied: grpcio-status<2.0.0,>=1.33.2 in /opt/homebrew/Cellar/jupyterlab/4.4.3/libexec/lib/python3.13/site-packages (from google-api-core[grpc]!=2.0.*,!=2.1.*,!=2.10.*,!=2.2.*,!=2.3.*,!=2.4.*,!=2.5.*,!=2.6.*,!=2.7.*,!=2.8.*,!=2.9.*,<3.0.0dev,>=1.34.1->google-ai-generativelanguage==0.6.15) (1.71.0)\n",
      "Requirement already satisfied: cachetools<6.0,>=2.0.0 in /opt/homebrew/Cellar/jupyterlab/4.4.3/libexec/lib/python3.13/site-packages (from google-auth!=2.24.0,!=2.25.0,<3.0.0dev,>=2.14.1->google-ai-generativelanguage==0.6.15) (5.5.2)\n",
      "Requirement already satisfied: pyasn1-modules>=0.2.1 in /opt/homebrew/Cellar/jupyterlab/4.4.3/libexec/lib/python3.13/site-packages (from google-auth!=2.24.0,!=2.25.0,<3.0.0dev,>=2.14.1->google-ai-generativelanguage==0.6.15) (0.4.2)\n",
      "Requirement already satisfied: rsa<5,>=3.1.4 in /opt/homebrew/Cellar/jupyterlab/4.4.3/libexec/lib/python3.13/site-packages (from google-auth!=2.24.0,!=2.25.0,<3.0.0dev,>=2.14.1->google-ai-generativelanguage==0.6.15) (4.9.1)\n",
      "Requirement already satisfied: charset_normalizer<4,>=2 in /opt/homebrew/Cellar/jupyterlab/4.4.3/libexec/lib/python3.13/site-packages (from requests<3.0.0,>=2.18.0->google-api-core!=2.0.*,!=2.1.*,!=2.10.*,!=2.2.*,!=2.3.*,!=2.4.*,!=2.5.*,!=2.6.*,!=2.7.*,!=2.8.*,!=2.9.*,<3.0.0dev,>=1.34.1->google-api-core[grpc]!=2.0.*,!=2.1.*,!=2.10.*,!=2.2.*,!=2.3.*,!=2.4.*,!=2.5.*,!=2.6.*,!=2.7.*,!=2.8.*,!=2.9.*,<3.0.0dev,>=1.34.1->google-ai-generativelanguage==0.6.15) (3.4.2)\n",
      "Requirement already satisfied: idna<4,>=2.5 in /opt/homebrew/Cellar/jupyterlab/4.4.3/libexec/lib/python3.13/site-packages (from requests<3.0.0,>=2.18.0->google-api-core!=2.0.*,!=2.1.*,!=2.10.*,!=2.2.*,!=2.3.*,!=2.4.*,!=2.5.*,!=2.6.*,!=2.7.*,!=2.8.*,!=2.9.*,<3.0.0dev,>=1.34.1->google-api-core[grpc]!=2.0.*,!=2.1.*,!=2.10.*,!=2.2.*,!=2.3.*,!=2.4.*,!=2.5.*,!=2.6.*,!=2.7.*,!=2.8.*,!=2.9.*,<3.0.0dev,>=1.34.1->google-ai-generativelanguage==0.6.15) (3.10)\n",
      "Requirement already satisfied: urllib3<3,>=1.21.1 in /opt/homebrew/Cellar/jupyterlab/4.4.3/libexec/lib/python3.13/site-packages (from requests<3.0.0,>=2.18.0->google-api-core!=2.0.*,!=2.1.*,!=2.10.*,!=2.2.*,!=2.3.*,!=2.4.*,!=2.5.*,!=2.6.*,!=2.7.*,!=2.8.*,!=2.9.*,<3.0.0dev,>=1.34.1->google-api-core[grpc]!=2.0.*,!=2.1.*,!=2.10.*,!=2.2.*,!=2.3.*,!=2.4.*,!=2.5.*,!=2.6.*,!=2.7.*,!=2.8.*,!=2.9.*,<3.0.0dev,>=1.34.1->google-ai-generativelanguage==0.6.15) (2.4.0)\n",
      "Requirement already satisfied: certifi>=2017.4.17 in /opt/homebrew/Cellar/jupyterlab/4.4.3/libexec/lib/python3.13/site-packages (from requests<3.0.0,>=2.18.0->google-api-core!=2.0.*,!=2.1.*,!=2.10.*,!=2.2.*,!=2.3.*,!=2.4.*,!=2.5.*,!=2.6.*,!=2.7.*,!=2.8.*,!=2.9.*,<3.0.0dev,>=1.34.1->google-api-core[grpc]!=2.0.*,!=2.1.*,!=2.10.*,!=2.2.*,!=2.3.*,!=2.4.*,!=2.5.*,!=2.6.*,!=2.7.*,!=2.8.*,!=2.9.*,<3.0.0dev,>=1.34.1->google-ai-generativelanguage==0.6.15) (2025.4.26)\n",
      "Requirement already satisfied: pyasn1>=0.1.3 in /opt/homebrew/Cellar/jupyterlab/4.4.3/libexec/lib/python3.13/site-packages (from rsa<5,>=3.1.4->google-auth!=2.24.0,!=2.25.0,<3.0.0dev,>=2.14.1->google-ai-generativelanguage==0.6.15) (0.6.1)\n",
      "Using cached google_ai_generativelanguage-0.6.15-py3-none-any.whl (1.3 MB)\n",
      "Installing collected packages: google-ai-generativelanguage\n",
      "Successfully installed google-ai-generativelanguage-0.6.15\n",
      "Note: you may need to restart the kernel to use updated packages.\n",
      "Collecting langchain-google-genai\n",
      "  Using cached langchain_google_genai-2.1.5-py3-none-any.whl.metadata (5.2 kB)\n",
      "Requirement already satisfied: filetype<2.0.0,>=1.2.0 in /opt/homebrew/Cellar/jupyterlab/4.4.3/libexec/lib/python3.13/site-packages (from langchain-google-genai) (1.2.0)\n",
      "Collecting google-ai-generativelanguage<0.7.0,>=0.6.18 (from langchain-google-genai)\n",
      "  Using cached google_ai_generativelanguage-0.6.18-py3-none-any.whl.metadata (9.8 kB)\n",
      "Requirement already satisfied: langchain-core<0.4.0,>=0.3.62 in /opt/homebrew/Cellar/jupyterlab/4.4.3/libexec/lib/python3.13/site-packages (from langchain-google-genai) (0.3.65)\n",
      "Requirement already satisfied: pydantic<3,>=2 in /opt/homebrew/Cellar/jupyterlab/4.4.3/libexec/lib/python3.13/site-packages (from langchain-google-genai) (2.11.5)\n",
      "Requirement already satisfied: google-api-core!=2.0.*,!=2.1.*,!=2.10.*,!=2.2.*,!=2.3.*,!=2.4.*,!=2.5.*,!=2.6.*,!=2.7.*,!=2.8.*,!=2.9.*,<3.0.0,>=1.34.1 in /opt/homebrew/Cellar/jupyterlab/4.4.3/libexec/lib/python3.13/site-packages (from google-api-core[grpc]!=2.0.*,!=2.1.*,!=2.10.*,!=2.2.*,!=2.3.*,!=2.4.*,!=2.5.*,!=2.6.*,!=2.7.*,!=2.8.*,!=2.9.*,<3.0.0,>=1.34.1->google-ai-generativelanguage<0.7.0,>=0.6.18->langchain-google-genai) (2.25.0rc1)\n",
      "Requirement already satisfied: google-auth!=2.24.0,!=2.25.0,<3.0.0,>=2.14.1 in /opt/homebrew/Cellar/jupyterlab/4.4.3/libexec/lib/python3.13/site-packages (from google-ai-generativelanguage<0.7.0,>=0.6.18->langchain-google-genai) (2.40.2)\n",
      "Requirement already satisfied: proto-plus<2.0.0,>=1.22.3 in /opt/homebrew/Cellar/jupyterlab/4.4.3/libexec/lib/python3.13/site-packages (from google-ai-generativelanguage<0.7.0,>=0.6.18->langchain-google-genai) (1.26.1)\n",
      "Requirement already satisfied: protobuf!=4.21.0,!=4.21.1,!=4.21.2,!=4.21.3,!=4.21.4,!=4.21.5,<7.0.0,>=3.20.2 in /opt/homebrew/Cellar/jupyterlab/4.4.3/libexec/lib/python3.13/site-packages (from google-ai-generativelanguage<0.7.0,>=0.6.18->langchain-google-genai) (5.29.5)\n",
      "Requirement already satisfied: googleapis-common-protos<2.0.0,>=1.56.2 in /opt/homebrew/Cellar/jupyterlab/4.4.3/libexec/lib/python3.13/site-packages (from google-api-core!=2.0.*,!=2.1.*,!=2.10.*,!=2.2.*,!=2.3.*,!=2.4.*,!=2.5.*,!=2.6.*,!=2.7.*,!=2.8.*,!=2.9.*,<3.0.0,>=1.34.1->google-api-core[grpc]!=2.0.*,!=2.1.*,!=2.10.*,!=2.2.*,!=2.3.*,!=2.4.*,!=2.5.*,!=2.6.*,!=2.7.*,!=2.8.*,!=2.9.*,<3.0.0,>=1.34.1->google-ai-generativelanguage<0.7.0,>=0.6.18->langchain-google-genai) (1.70.0)\n",
      "Requirement already satisfied: requests<3.0.0,>=2.18.0 in /opt/homebrew/Cellar/jupyterlab/4.4.3/libexec/lib/python3.13/site-packages (from google-api-core!=2.0.*,!=2.1.*,!=2.10.*,!=2.2.*,!=2.3.*,!=2.4.*,!=2.5.*,!=2.6.*,!=2.7.*,!=2.8.*,!=2.9.*,<3.0.0,>=1.34.1->google-api-core[grpc]!=2.0.*,!=2.1.*,!=2.10.*,!=2.2.*,!=2.3.*,!=2.4.*,!=2.5.*,!=2.6.*,!=2.7.*,!=2.8.*,!=2.9.*,<3.0.0,>=1.34.1->google-ai-generativelanguage<0.7.0,>=0.6.18->langchain-google-genai) (2.32.3)\n",
      "Requirement already satisfied: grpcio<2.0.0,>=1.33.2 in /opt/homebrew/Cellar/jupyterlab/4.4.3/libexec/lib/python3.13/site-packages (from google-api-core[grpc]!=2.0.*,!=2.1.*,!=2.10.*,!=2.2.*,!=2.3.*,!=2.4.*,!=2.5.*,!=2.6.*,!=2.7.*,!=2.8.*,!=2.9.*,<3.0.0,>=1.34.1->google-ai-generativelanguage<0.7.0,>=0.6.18->langchain-google-genai) (1.71.0)\n",
      "Requirement already satisfied: grpcio-status<2.0.0,>=1.33.2 in /opt/homebrew/Cellar/jupyterlab/4.4.3/libexec/lib/python3.13/site-packages (from google-api-core[grpc]!=2.0.*,!=2.1.*,!=2.10.*,!=2.2.*,!=2.3.*,!=2.4.*,!=2.5.*,!=2.6.*,!=2.7.*,!=2.8.*,!=2.9.*,<3.0.0,>=1.34.1->google-ai-generativelanguage<0.7.0,>=0.6.18->langchain-google-genai) (1.71.0)\n",
      "Requirement already satisfied: cachetools<6.0,>=2.0.0 in /opt/homebrew/Cellar/jupyterlab/4.4.3/libexec/lib/python3.13/site-packages (from google-auth!=2.24.0,!=2.25.0,<3.0.0,>=2.14.1->google-ai-generativelanguage<0.7.0,>=0.6.18->langchain-google-genai) (5.5.2)\n",
      "Requirement already satisfied: pyasn1-modules>=0.2.1 in /opt/homebrew/Cellar/jupyterlab/4.4.3/libexec/lib/python3.13/site-packages (from google-auth!=2.24.0,!=2.25.0,<3.0.0,>=2.14.1->google-ai-generativelanguage<0.7.0,>=0.6.18->langchain-google-genai) (0.4.2)\n",
      "Requirement already satisfied: rsa<5,>=3.1.4 in /opt/homebrew/Cellar/jupyterlab/4.4.3/libexec/lib/python3.13/site-packages (from google-auth!=2.24.0,!=2.25.0,<3.0.0,>=2.14.1->google-ai-generativelanguage<0.7.0,>=0.6.18->langchain-google-genai) (4.9.1)\n",
      "Requirement already satisfied: langsmith<0.4,>=0.3.45 in /opt/homebrew/Cellar/jupyterlab/4.4.3/libexec/lib/python3.13/site-packages (from langchain-core<0.4.0,>=0.3.62->langchain-google-genai) (0.3.45)\n",
      "Requirement already satisfied: tenacity!=8.4.0,<10.0.0,>=8.1.0 in /opt/homebrew/Cellar/jupyterlab/4.4.3/libexec/lib/python3.13/site-packages (from langchain-core<0.4.0,>=0.3.62->langchain-google-genai) (9.1.2)\n",
      "Requirement already satisfied: jsonpatch<2.0,>=1.33 in /opt/homebrew/Cellar/jupyterlab/4.4.3/libexec/lib/python3.13/site-packages (from langchain-core<0.4.0,>=0.3.62->langchain-google-genai) (1.33)\n",
      "Requirement already satisfied: PyYAML>=5.3 in /opt/homebrew/Cellar/jupyterlab/4.4.3/libexec/lib/python3.13/site-packages (from langchain-core<0.4.0,>=0.3.62->langchain-google-genai) (6.0.2)\n",
      "Requirement already satisfied: packaging<25,>=23.2 in /opt/homebrew/Cellar/jupyterlab/4.4.3/libexec/lib/python3.13/site-packages (from langchain-core<0.4.0,>=0.3.62->langchain-google-genai) (24.2)\n",
      "Requirement already satisfied: typing-extensions>=4.7 in /opt/homebrew/Cellar/jupyterlab/4.4.3/libexec/lib/python3.13/site-packages (from langchain-core<0.4.0,>=0.3.62->langchain-google-genai) (4.14.0)\n",
      "Requirement already satisfied: jsonpointer>=1.9 in /opt/homebrew/Cellar/jupyterlab/4.4.3/libexec/lib/python3.13/site-packages (from jsonpatch<2.0,>=1.33->langchain-core<0.4.0,>=0.3.62->langchain-google-genai) (3.0.0)\n",
      "Requirement already satisfied: httpx<1,>=0.23.0 in /opt/homebrew/Cellar/jupyterlab/4.4.3/libexec/lib/python3.13/site-packages (from langsmith<0.4,>=0.3.45->langchain-core<0.4.0,>=0.3.62->langchain-google-genai) (0.28.1)\n",
      "Requirement already satisfied: orjson<4.0.0,>=3.9.14 in /opt/homebrew/Cellar/jupyterlab/4.4.3/libexec/lib/python3.13/site-packages (from langsmith<0.4,>=0.3.45->langchain-core<0.4.0,>=0.3.62->langchain-google-genai) (3.10.18)\n",
      "Requirement already satisfied: requests-toolbelt<2.0.0,>=1.0.0 in /opt/homebrew/Cellar/jupyterlab/4.4.3/libexec/lib/python3.13/site-packages (from langsmith<0.4,>=0.3.45->langchain-core<0.4.0,>=0.3.62->langchain-google-genai) (1.0.0)\n",
      "Requirement already satisfied: zstandard<0.24.0,>=0.23.0 in /opt/homebrew/Cellar/jupyterlab/4.4.3/libexec/lib/python3.13/site-packages (from langsmith<0.4,>=0.3.45->langchain-core<0.4.0,>=0.3.62->langchain-google-genai) (0.23.0)\n",
      "Requirement already satisfied: anyio in /opt/homebrew/Cellar/jupyterlab/4.4.3/libexec/lib/python3.13/site-packages (from httpx<1,>=0.23.0->langsmith<0.4,>=0.3.45->langchain-core<0.4.0,>=0.3.62->langchain-google-genai) (4.9.0)\n",
      "Requirement already satisfied: certifi in /opt/homebrew/Cellar/jupyterlab/4.4.3/libexec/lib/python3.13/site-packages (from httpx<1,>=0.23.0->langsmith<0.4,>=0.3.45->langchain-core<0.4.0,>=0.3.62->langchain-google-genai) (2025.4.26)\n",
      "Requirement already satisfied: httpcore==1.* in /opt/homebrew/Cellar/jupyterlab/4.4.3/libexec/lib/python3.13/site-packages (from httpx<1,>=0.23.0->langsmith<0.4,>=0.3.45->langchain-core<0.4.0,>=0.3.62->langchain-google-genai) (1.0.9)\n",
      "Requirement already satisfied: idna in /opt/homebrew/Cellar/jupyterlab/4.4.3/libexec/lib/python3.13/site-packages (from httpx<1,>=0.23.0->langsmith<0.4,>=0.3.45->langchain-core<0.4.0,>=0.3.62->langchain-google-genai) (3.10)\n",
      "Requirement already satisfied: h11>=0.16 in /opt/homebrew/Cellar/jupyterlab/4.4.3/libexec/lib/python3.13/site-packages (from httpcore==1.*->httpx<1,>=0.23.0->langsmith<0.4,>=0.3.45->langchain-core<0.4.0,>=0.3.62->langchain-google-genai) (0.16.0)\n",
      "Requirement already satisfied: annotated-types>=0.6.0 in /opt/homebrew/Cellar/jupyterlab/4.4.3/libexec/lib/python3.13/site-packages (from pydantic<3,>=2->langchain-google-genai) (0.7.0)\n",
      "Requirement already satisfied: pydantic-core==2.33.2 in /opt/homebrew/Cellar/jupyterlab/4.4.3/libexec/lib/python3.13/site-packages (from pydantic<3,>=2->langchain-google-genai) (2.33.2)\n",
      "Requirement already satisfied: typing-inspection>=0.4.0 in /opt/homebrew/Cellar/jupyterlab/4.4.3/libexec/lib/python3.13/site-packages (from pydantic<3,>=2->langchain-google-genai) (0.4.1)\n",
      "Requirement already satisfied: charset_normalizer<4,>=2 in /opt/homebrew/Cellar/jupyterlab/4.4.3/libexec/lib/python3.13/site-packages (from requests<3.0.0,>=2.18.0->google-api-core!=2.0.*,!=2.1.*,!=2.10.*,!=2.2.*,!=2.3.*,!=2.4.*,!=2.5.*,!=2.6.*,!=2.7.*,!=2.8.*,!=2.9.*,<3.0.0,>=1.34.1->google-api-core[grpc]!=2.0.*,!=2.1.*,!=2.10.*,!=2.2.*,!=2.3.*,!=2.4.*,!=2.5.*,!=2.6.*,!=2.7.*,!=2.8.*,!=2.9.*,<3.0.0,>=1.34.1->google-ai-generativelanguage<0.7.0,>=0.6.18->langchain-google-genai) (3.4.2)\n",
      "Requirement already satisfied: urllib3<3,>=1.21.1 in /opt/homebrew/Cellar/jupyterlab/4.4.3/libexec/lib/python3.13/site-packages (from requests<3.0.0,>=2.18.0->google-api-core!=2.0.*,!=2.1.*,!=2.10.*,!=2.2.*,!=2.3.*,!=2.4.*,!=2.5.*,!=2.6.*,!=2.7.*,!=2.8.*,!=2.9.*,<3.0.0,>=1.34.1->google-api-core[grpc]!=2.0.*,!=2.1.*,!=2.10.*,!=2.2.*,!=2.3.*,!=2.4.*,!=2.5.*,!=2.6.*,!=2.7.*,!=2.8.*,!=2.9.*,<3.0.0,>=1.34.1->google-ai-generativelanguage<0.7.0,>=0.6.18->langchain-google-genai) (2.4.0)\n",
      "Requirement already satisfied: pyasn1>=0.1.3 in /opt/homebrew/Cellar/jupyterlab/4.4.3/libexec/lib/python3.13/site-packages (from rsa<5,>=3.1.4->google-auth!=2.24.0,!=2.25.0,<3.0.0,>=2.14.1->google-ai-generativelanguage<0.7.0,>=0.6.18->langchain-google-genai) (0.6.1)\n",
      "Requirement already satisfied: sniffio>=1.1 in /opt/homebrew/Cellar/jupyterlab/4.4.3/libexec/lib/python3.13/site-packages (from anyio->httpx<1,>=0.23.0->langsmith<0.4,>=0.3.45->langchain-core<0.4.0,>=0.3.62->langchain-google-genai) (1.3.1)\n",
      "Using cached langchain_google_genai-2.1.5-py3-none-any.whl (44 kB)\n",
      "Using cached google_ai_generativelanguage-0.6.18-py3-none-any.whl (1.4 MB)\n",
      "Installing collected packages: google-ai-generativelanguage, langchain-google-genai\n",
      "\u001b[2K  Attempting uninstall: google-ai-generativelanguage\n",
      "\u001b[2K    Found existing installation: google-ai-generativelanguage 0.6.15\n",
      "\u001b[2K    Uninstalling google-ai-generativelanguage-0.6.15:\n",
      "\u001b[2K      Successfully uninstalled google-ai-generativelanguage-0.6.15\n",
      "\u001b[2K   \u001b[90m━━━━━━━━━━━━━━━━━━━━━━━━━━━━━━━━━━━━━━━━\u001b[0m \u001b[32m2/2\u001b[0m [langchain-google-genai]guage]\n",
      "\u001b[1A\u001b[2KSuccessfully installed google-ai-generativelanguage-0.6.18 langchain-google-genai-2.1.5\n",
      "Note: you may need to restart the kernel to use updated packages.\n"
     ]
    }
   ],
   "source": [
    "# First, uninstall the problematic packages to start clean\n",
    "%pip uninstall -y google-ai-generativelanguage google-generativeai langchain-google-genai\n",
    "\n",
    "# Now, install the specific version of the conflicting dependency\n",
    "%pip install google-ai-generativelanguage==0.6.15\n",
    "\n",
    "# Then, install langchain-google-genai, which should now find the correct dependency\n",
    "# If langchain-google-genai itself has a newer google-generativeai dependency,\n",
    "# this might still cause a conflict. If so, move to Option 2.\n",
    "%pip install langchain-google-genai"
   ]
  },
  {
   "cell_type": "code",
   "execution_count": 10,
   "id": "4585e377-3147-46e7-8456-7069339a19ee",
   "metadata": {},
   "outputs": [
    {
     "name": "stdout",
     "output_type": "stream",
     "text": [
      "Collecting langchain\n",
      "  Using cached langchain-0.3.25-py3-none-any.whl.metadata (7.8 kB)\n",
      "Requirement already satisfied: langchain-core<1.0.0,>=0.3.58 in /opt/homebrew/Cellar/jupyterlab/4.4.3/libexec/lib/python3.13/site-packages (from langchain) (0.3.65)\n",
      "Collecting langchain-text-splitters<1.0.0,>=0.3.8 (from langchain)\n",
      "  Using cached langchain_text_splitters-0.3.8-py3-none-any.whl.metadata (1.9 kB)\n",
      "Requirement already satisfied: langsmith<0.4,>=0.1.17 in /opt/homebrew/Cellar/jupyterlab/4.4.3/libexec/lib/python3.13/site-packages (from langchain) (0.3.45)\n",
      "Requirement already satisfied: pydantic<3.0.0,>=2.7.4 in /opt/homebrew/Cellar/jupyterlab/4.4.3/libexec/lib/python3.13/site-packages (from langchain) (2.11.5)\n",
      "Requirement already satisfied: SQLAlchemy<3,>=1.4 in /opt/homebrew/Cellar/jupyterlab/4.4.3/libexec/lib/python3.13/site-packages (from langchain) (2.0.41)\n",
      "Requirement already satisfied: requests<3,>=2 in /opt/homebrew/Cellar/jupyterlab/4.4.3/libexec/lib/python3.13/site-packages (from langchain) (2.32.3)\n",
      "Requirement already satisfied: PyYAML>=5.3 in /opt/homebrew/Cellar/jupyterlab/4.4.3/libexec/lib/python3.13/site-packages (from langchain) (6.0.2)\n",
      "Requirement already satisfied: tenacity!=8.4.0,<10.0.0,>=8.1.0 in /opt/homebrew/Cellar/jupyterlab/4.4.3/libexec/lib/python3.13/site-packages (from langchain-core<1.0.0,>=0.3.58->langchain) (9.1.2)\n",
      "Requirement already satisfied: jsonpatch<2.0,>=1.33 in /opt/homebrew/Cellar/jupyterlab/4.4.3/libexec/lib/python3.13/site-packages (from langchain-core<1.0.0,>=0.3.58->langchain) (1.33)\n",
      "Requirement already satisfied: packaging<25,>=23.2 in /opt/homebrew/Cellar/jupyterlab/4.4.3/libexec/lib/python3.13/site-packages (from langchain-core<1.0.0,>=0.3.58->langchain) (24.2)\n",
      "Requirement already satisfied: typing-extensions>=4.7 in /opt/homebrew/Cellar/jupyterlab/4.4.3/libexec/lib/python3.13/site-packages (from langchain-core<1.0.0,>=0.3.58->langchain) (4.14.0)\n",
      "Requirement already satisfied: jsonpointer>=1.9 in /opt/homebrew/Cellar/jupyterlab/4.4.3/libexec/lib/python3.13/site-packages (from jsonpatch<2.0,>=1.33->langchain-core<1.0.0,>=0.3.58->langchain) (3.0.0)\n",
      "Requirement already satisfied: httpx<1,>=0.23.0 in /opt/homebrew/Cellar/jupyterlab/4.4.3/libexec/lib/python3.13/site-packages (from langsmith<0.4,>=0.1.17->langchain) (0.28.1)\n",
      "Requirement already satisfied: orjson<4.0.0,>=3.9.14 in /opt/homebrew/Cellar/jupyterlab/4.4.3/libexec/lib/python3.13/site-packages (from langsmith<0.4,>=0.1.17->langchain) (3.10.18)\n",
      "Requirement already satisfied: requests-toolbelt<2.0.0,>=1.0.0 in /opt/homebrew/Cellar/jupyterlab/4.4.3/libexec/lib/python3.13/site-packages (from langsmith<0.4,>=0.1.17->langchain) (1.0.0)\n",
      "Requirement already satisfied: zstandard<0.24.0,>=0.23.0 in /opt/homebrew/Cellar/jupyterlab/4.4.3/libexec/lib/python3.13/site-packages (from langsmith<0.4,>=0.1.17->langchain) (0.23.0)\n",
      "Requirement already satisfied: anyio in /opt/homebrew/Cellar/jupyterlab/4.4.3/libexec/lib/python3.13/site-packages (from httpx<1,>=0.23.0->langsmith<0.4,>=0.1.17->langchain) (4.9.0)\n",
      "Requirement already satisfied: certifi in /opt/homebrew/Cellar/jupyterlab/4.4.3/libexec/lib/python3.13/site-packages (from httpx<1,>=0.23.0->langsmith<0.4,>=0.1.17->langchain) (2025.4.26)\n",
      "Requirement already satisfied: httpcore==1.* in /opt/homebrew/Cellar/jupyterlab/4.4.3/libexec/lib/python3.13/site-packages (from httpx<1,>=0.23.0->langsmith<0.4,>=0.1.17->langchain) (1.0.9)\n",
      "Requirement already satisfied: idna in /opt/homebrew/Cellar/jupyterlab/4.4.3/libexec/lib/python3.13/site-packages (from httpx<1,>=0.23.0->langsmith<0.4,>=0.1.17->langchain) (3.10)\n",
      "Requirement already satisfied: h11>=0.16 in /opt/homebrew/Cellar/jupyterlab/4.4.3/libexec/lib/python3.13/site-packages (from httpcore==1.*->httpx<1,>=0.23.0->langsmith<0.4,>=0.1.17->langchain) (0.16.0)\n",
      "Requirement already satisfied: annotated-types>=0.6.0 in /opt/homebrew/Cellar/jupyterlab/4.4.3/libexec/lib/python3.13/site-packages (from pydantic<3.0.0,>=2.7.4->langchain) (0.7.0)\n",
      "Requirement already satisfied: pydantic-core==2.33.2 in /opt/homebrew/Cellar/jupyterlab/4.4.3/libexec/lib/python3.13/site-packages (from pydantic<3.0.0,>=2.7.4->langchain) (2.33.2)\n",
      "Requirement already satisfied: typing-inspection>=0.4.0 in /opt/homebrew/Cellar/jupyterlab/4.4.3/libexec/lib/python3.13/site-packages (from pydantic<3.0.0,>=2.7.4->langchain) (0.4.1)\n",
      "Requirement already satisfied: charset_normalizer<4,>=2 in /opt/homebrew/Cellar/jupyterlab/4.4.3/libexec/lib/python3.13/site-packages (from requests<3,>=2->langchain) (3.4.2)\n",
      "Requirement already satisfied: urllib3<3,>=1.21.1 in /opt/homebrew/Cellar/jupyterlab/4.4.3/libexec/lib/python3.13/site-packages (from requests<3,>=2->langchain) (2.4.0)\n",
      "Requirement already satisfied: sniffio>=1.1 in /opt/homebrew/Cellar/jupyterlab/4.4.3/libexec/lib/python3.13/site-packages (from anyio->httpx<1,>=0.23.0->langsmith<0.4,>=0.1.17->langchain) (1.3.1)\n",
      "Using cached langchain-0.3.25-py3-none-any.whl (1.0 MB)\n",
      "Using cached langchain_text_splitters-0.3.8-py3-none-any.whl (32 kB)\n",
      "Installing collected packages: langchain-text-splitters, langchain\n",
      "\u001b[2K   \u001b[90m━━━━━━━━━━━━━━━━━━━━━━━━━━━━━━━━━━━━━━━━\u001b[0m \u001b[32m2/2\u001b[0m [langchain]/2\u001b[0m [langchain]\n",
      "\u001b[1A\u001b[2KSuccessfully installed langchain-0.3.25 langchain-text-splitters-0.3.8\n",
      "Note: you may need to restart the kernel to use updated packages.\n"
     ]
    }
   ],
   "source": [
    "%pip install langchain"
   ]
  },
  {
   "cell_type": "code",
   "execution_count": 15,
   "id": "384ad091-9dcf-4804-99f2-c125ed23c144",
   "metadata": {},
   "outputs": [],
   "source": [
    "from google import genai\n",
    "import dotenv,os\n",
    "dotenv.load_dotenv()\n",
    "\n",
    "GEMINI_API_KEY = os.environ.get(\"gemini_key\")\n",
    "\n",
    "import getpass\n",
    "import os\n",
    "\n",
    "if not os.environ.get(\"GOOGLE_API_KEY\"):\n",
    "  os.environ[\"GOOGLE_API_KEY\"] = getpass.getpass(\"Enter API key for Google Gemini: \")\n",
    "\n",
    "from langchain.chat_models import init_chat_model\n",
    "\n",
    "model = init_chat_model(\"gemini-2.0-flash\", model_provider=\"google_genai\")\n"
   ]
  },
  {
   "cell_type": "code",
   "execution_count": 16,
   "id": "9ef459e8-bed3-47c8-b37e-6afbe7e490d6",
   "metadata": {},
   "outputs": [],
   "source": [
    "response=model.invoke(\"Hello, world!\")  "
   ]
  },
  {
   "cell_type": "code",
   "execution_count": 18,
   "id": "3dfbc96a-8ebc-4281-9c6a-1b8e055f9283",
   "metadata": {},
   "outputs": [
    {
     "data": {
      "text/plain": [
       "'Hello there! How can I help you today?'"
      ]
     },
     "execution_count": 18,
     "metadata": {},
     "output_type": "execute_result"
    }
   ],
   "source": [
    "response.content"
   ]
  },
  {
   "cell_type": "code",
   "execution_count": 19,
   "id": "c7af4326-a74f-48d0-8c6e-017d6aa60257",
   "metadata": {},
   "outputs": [
    {
     "data": {
      "text/plain": [
       "'Okay, to give you the most accurate information, I need today\\'s date.  Please tell me what today\\'s date is (including the year).  For example, you could say \"Today is October 26, 2023\".\\n\\nOnce I have the date, I can tell you about some historical events that happened on that day.'"
      ]
     },
     "execution_count": 19,
     "metadata": {},
     "output_type": "execute_result"
    }
   ],
   "source": [
    "response=model.invoke(\"I want to know about historical event that happened today\")\n",
    "response.content"
   ]
  },
  {
   "cell_type": "code",
   "execution_count": 20,
   "id": "3d0f7622-833c-4a9c-ae1d-2fe4ae2559c0",
   "metadata": {},
   "outputs": [
    {
     "data": {
      "text/plain": [
       "\"Okay, I can help you with that! Today is October 26th. Here are some significant historical events that occurred on October 26th:\\n\\n**October 26th - Notable Historical Events:**\\n\\n*   **1774:** The First Continental Congress adjourns in Philadelphia.\\n\\n*   **1775:** King George III addresses Parliament regarding the rebellion in the American colonies.\\n\\n*   **1861:** The Pony Express officially ceases operations, replaced by the transcontinental telegraph.\\n\\n*   **1863:** The Football Association, the oldest football association in the world, is formed in London.\\n\\n*   **1905:** Sweden accepts Norway's independence, dissolving the union between the two countries.\\n\\n*   **1947:** Kashmir accedes to India.\\n\\n*   **1958:** Pan American World Airways makes the first commercial flight of the Boeing 707 from New York City to Paris.\\n\\n*   **1979:** South Korean President Park Chung-hee is assassinated by the head of the Korean Central Intelligence Agency.\\n\\n*   **1984:** The movie *The Terminator*, starring Arnold Schwarzenegger, is released in the United States.\\n\\n*   **2001:** The USA PATRIOT Act is passed by the United States Congress.\\n\\n*   **2015:** An earthquake of magnitude 7.5 strikes the Hindu Kush region of Afghanistan, causing widespread damage and casualties in Afghanistan, Pakistan, and India.\\n\\nKeep in mind that this is just a selection of events, and many other things have happened on October 26th throughout history. You can research specific areas or time periods for more focused information.\""
      ]
     },
     "execution_count": 20,
     "metadata": {},
     "output_type": "execute_result"
    }
   ],
   "source": [
    "response=model.invoke(\"I am in CST timezone, I want to know about historical event that happened today's date\")\n",
    "response.content"
   ]
  },
  {
   "cell_type": "code",
   "execution_count": 21,
   "id": "bd79f342-781a-4544-a46a-dc4c8a6ba5a4",
   "metadata": {},
   "outputs": [
    {
     "data": {
      "text/plain": [
       "\"Okay, here are a few significant historical events that happened on June 24th:\\n\\n*   **1497: John Cabot Lands in North America (Likely)**: While the exact landing spot is debated, it's widely believed that on this day, or very close to it, the Italian explorer John Cabot, commissioned by England, landed somewhere in North America. This marked a significant moment in European exploration of the continent. Possible landing sites include Newfoundland, Labrador, or Cape Breton Island.\\n\\n*   **1916: Mary Pickford Becomes America's First Female Movie Superstar**: Mary Pickford was the first female film star to earn one million dollars when she signed with Famous Players Film Company.\\n\\n*   **1948: Berlin Blockade Begins**: The Soviet Union began a blockade of West Berlin, cutting off all land and water access. This was a major crisis in the early Cold War, and the Western Allies responded with the Berlin Airlift to supply the city.\\n\\n*   **1983: Sally Ride Becomes First American Woman in Space**: Sally Ride, a physicist and astronaut, became the first American woman in space aboard the Space Shuttle Challenger. This was a landmark moment for women in science and space exploration.\\n\\n*   **2010: Julia Gillard Becomes First Female Prime Minister of Australia**: Julia Gillard becomes the first female Prime Minister of Australia. She was sworn in after Kevin Rudd was ousted in a leadership challenge.\\n\\nThese are just a few examples. The significance of these events can vary depending on your perspective and interests.\""
      ]
     },
     "execution_count": 21,
     "metadata": {},
     "output_type": "execute_result"
    }
   ],
   "source": [
    "response=model.invoke(\"I want to know about historical event that happened today, june 24\")\n",
    "response.content"
   ]
  },
  {
   "cell_type": "code",
   "execution_count": 22,
   "id": "6c0efb37-ebc9-4b42-ac05-53284b1d23ff",
   "metadata": {},
   "outputs": [
    {
     "data": {
      "text/plain": [
       "'Okay, I understand. To help me find historical events specific to your region, I need to know where you are located. Please tell me:\\n\\n*   **What is your city, state/province, and country?**\\n\\nOnce I have this information, I can provide you with a list of historical events that are relevant to your region.'"
      ]
     },
     "execution_count": 22,
     "metadata": {},
     "output_type": "execute_result"
    }
   ],
   "source": [
    "response=model.invoke(\"I want to know about historical event from my region only\")\n",
    "response.content"
   ]
  },
  {
   "cell_type": "code",
   "execution_count": null,
   "id": "84bade9a-0a04-4bac-82b6-2b36bb0783fc",
   "metadata": {},
   "outputs": [],
   "source": [
    "****imp ***######no context memory was saved, when we provided information that user is in CST Timezone##"
   ]
  },
  {
   "cell_type": "code",
   "execution_count": 23,
   "id": "5b36c687-bf13-49cd-829d-0b4ac5a424c8",
   "metadata": {},
   "outputs": [
    {
     "data": {
      "text/plain": [
       "'Okay, let\\'s look at some historical events that happened on **October 26th** in the Central Standard Time (CST) region.  Since CST covers a large geographical area, I\\'ll focus on some notable events in the *United States* that might be of interest.  Keep in mind that pinpointing *every* event in the entire region is impossible, but I\\'ll give you a good selection.\\n\\n**Here are a few examples of historical events that occurred on October 26th in the CST timezone region (primarily focused on the USA):**\\n\\n*   **October 26, 1881: The Gunfight at the O.K. Corral (Tombstone, Arizona - Mountain Standard Time, but often associated with the \"Wild West\" which resonates in the CST region\\'s cultural history):** While technically MST, this legendary gunfight is a cornerstone of American Western lore and often resonates with people in the CST zone due to shared cultural ties to the West. The shootout involved the Earp brothers (Wyatt, Virgil, and Morgan) and Doc Holliday against the Clanton and McLaury brothers. It lasted only about 30 seconds but became one of the most famous events in American frontier history.\\n\\n*   **October 26, 1947: The death of Frances Farmer (Indianapolis, Indiana):** Although not an event *per se*, the death of actress Frances Farmer on this date is notable. Farmer\\'s life and struggles with mental illness and the mental health system of the time have made her a tragic figure in American history. Her story highlights important issues related to mental healthcare and societal attitudes towards mental illness.\\n\\n*   **October 26, 1979: The assassination of South Korean President Park Chung-hee:** This event, while happening outside the CST timezone, had significant global ramifications and was widely reported and discussed in the US, which would have been during CST time.\\n\\n**How to find more events specific to your location within the CST zone:**\\n\\n1.  **Specify your state or city:**  If you can tell me what state or major city you are interested in, I can provide more targeted results. For example, \"October 26th historical events in Texas\" or \"October 26th historical events in Chicago.\"\\n2.  **Use online archives of local newspapers:** Many local libraries and historical societies have digitized newspaper archives.  Search these archives for October 26th of various years to find local events that might not be widely known nationally.\\n3.  **Search online historical databases:** Websites like History.com, Wikipedia, and other historical databases allow you to search by date and location.\\n\\nI hope this information is helpful. Let me know if you have a specific location within the CST region you\\'d like me to investigate further!'"
      ]
     },
     "execution_count": 23,
     "metadata": {},
     "output_type": "execute_result"
    }
   ],
   "source": [
    "response=model.invoke(\"I want to know about historical event that happened today, in my region which has CST timezone\")\n",
    "response.content"
   ]
  },
  {
   "cell_type": "code",
   "execution_count": null,
   "id": "7852e60a-4b3e-4b8c-a901-23ecdf12005b",
   "metadata": {},
   "outputs": [],
   "source": [
    "****imp ***######no context memory was saved, when we provided information in today's date##"
   ]
  },
  {
   "cell_type": "code",
   "execution_count": 24,
   "id": "e9d69e68-e957-45d0-9238-daf3818d8818",
   "metadata": {},
   "outputs": [
    {
     "data": {
      "text/plain": [
       "\"Okay, let's find some historical events that occurred on June 24th in the Central Standard Time (CST) zone.  Since CST covers a large area, I'll focus on major events within countries that primarily operate within CST. That includes Canada, The United States, Mexico, Belize, Guatemala, Honduras, El Salvador, Nicaragua, and Costa Rica.\\n\\nHere are a few possibilities, keeping in mind that pinpointing events *specifically* timed to CST is difficult, and I'm relying on the general location and date:\\n\\n**United States:**\\n\\n*   **June 24, 1948:** The Berlin Blockade begins. While this is a European event, its impact on the US and the world was enormous. The US, along with its allies, began the Berlin Airlift in response, a major moment in the Cold War.\\n\\n*   **June 24, 1947:** The first reported contemporary U.S. UFO sighting occurred. Pilot Kenneth Arnold reported seeing nine objects flying in formation near Mount Rainier in Washington State. This event is considered by many to be the start of the modern UFO phenomenon.\\n\\n**Mexico:**\\n\\n*   **June 24, 1503:** Diego Colón (Columbus) is appointed Governor of the Indies.\\n\\n**Canada:**\\n\\n*   **June 24, 1812:** The War of 1812 was declared between the United States and Great Britain. The war had profound effects on Canada.\\n\\n**Important Considerations:**\\n\\n*   **Time Zones and Records:** Historical records often don't specify exact times.  An event on June 24th in, say, Texas, might have happened in the morning, afternoon, or evening *local* time, which would all still be June 24th CST.\\n*   **Local vs. Global Impact:** I've tried to include events with some significance. Very localized events (e.g., a minor town election) are harder to track down without knowing a specific city or region.\\n\\nTo get more specific results, please provide:\\n\\n*   **A more specific location:**  A city, state/province, or region within the CST zone would help narrow the search considerably.\\n*   **A type of event you're interested in:**  (e.g., political, military, cultural, scientific).\\n\\nI hope this gives you a good starting point!\""
      ]
     },
     "execution_count": 24,
     "metadata": {},
     "output_type": "execute_result"
    }
   ],
   "source": [
    "response=model.invoke(\"I want to know about historical event that happened today on june 24, in my region which has CST timezone\")\n",
    "response.content"
   ]
  },
  {
   "cell_type": "code",
   "execution_count": null,
   "id": "d508b4dd-b14b-44f8-9b52-b58f26f7be1e",
   "metadata": {},
   "outputs": [],
   "source": [
    "###### this was langchain chat model, serve answers but no context #####\n"
   ]
  },
  {
   "cell_type": "code",
   "execution_count": 27,
   "id": "1ee8f7d6-dfbd-4d1e-8970-bbf9fccd29b2",
   "metadata": {},
   "outputs": [
    {
     "data": {
      "text/plain": [
       "AIMessage(content='Hello! How can I help you today?', additional_kwargs={}, response_metadata={'prompt_feedback': {'block_reason': 0, 'safety_ratings': []}, 'finish_reason': 'STOP', 'model_name': 'gemini-2.0-flash', 'safety_ratings': []}, id='run--60995a09-6ae5-481b-829b-ec1d8bba1c4b-0', usage_metadata={'input_tokens': 1, 'output_tokens': 10, 'total_tokens': 11, 'input_token_details': {'cache_read': 0}})"
      ]
     },
     "execution_count": 27,
     "metadata": {},
     "output_type": "execute_result"
    }
   ],
   "source": [
    "from langchain_core.messages import HumanMessage, SystemMessage\n",
    "\n",
    "\n",
    "#model.invoke(\"Hello\")\n",
    "\n",
    "#model.invoke([{\"role\": \"user\", \"content\": \"Hello\"}])\n",
    "\n",
    "model.invoke([HumanMessage(\"Hello\")])"
   ]
  },
  {
   "cell_type": "code",
   "execution_count": 28,
   "id": "39ff011a-626a-469a-9689-87717450631d",
   "metadata": {},
   "outputs": [
    {
     "data": {
      "text/plain": [
       "AIMessage(content='Unakoti', additional_kwargs={}, response_metadata={'prompt_feedback': {'block_reason': 0, 'safety_ratings': []}, 'finish_reason': 'STOP', 'model_name': 'gemini-2.0-flash', 'safety_ratings': []}, id='run--a35db500-0b14-4508-af94-dd88bc3b1253-0', usage_metadata={'input_tokens': 15, 'output_tokens': 4, 'total_tokens': 19, 'input_token_details': {'cache_read': 0}})"
      ]
     },
     "execution_count": 28,
     "metadata": {},
     "output_type": "execute_result"
    }
   ],
   "source": [
    "model.invoke(\"Suggest me name of a place in one word to travel in Tripura, India\")\n"
   ]
  },
  {
   "cell_type": "code",
   "execution_count": 31,
   "id": "65ef76f8-ab32-41c2-a556-b1da637669ba",
   "metadata": {},
   "outputs": [],
   "source": [
    "####Langchain with prompts ####\n",
    "from langchain_core.prompts import ChatPromptTemplate\n",
    "travel_template = \"Suggest me name of a place to travel in {country}\"\n",
    "prompt_template = ChatPromptTemplate.from_messages([(\"system\", travel_template), (\"user\", \"{country}\")])"
   ]
  },
  {
   "cell_type": "code",
   "execution_count": 32,
   "id": "7b8502bc-bc72-4b92-b876-b9c3bd58b72a",
   "metadata": {},
   "outputs": [],
   "source": [
    "prompt = prompt_template.invoke({\"country\": \"Bhutan\"})"
   ]
  },
  {
   "cell_type": "code",
   "execution_count": 34,
   "id": "16e4d32b-4835-4b7e-9a0a-b32f0d6385ae",
   "metadata": {},
   "outputs": [
    {
     "data": {
      "text/plain": [
       "'Okay, to give you a good suggestion, I need a little more information about what you\\'re looking for!  Are you interested in:\\n\\n*   **Culture and History?**\\n*   **Trekking and Nature?**\\n*   **Luxury and Relaxation?**\\n*   **Specific Activities (like birdwatching, photography, etc.)?**\\n*   **Budget Travel?**\\n\\nHowever, based on my knowledge of Bhutan, here are a few suggestions catering to different interests, along with brief descriptions:\\n\\n*   **Paro:** Home to the iconic Tiger\\'s Nest Monastery (Taktsang), Paro is a must-visit for its stunning scenery, historical sites (like Rinpung Dzong), and the Paro Valley.\\n*   **Thimphu:** The capital city, Thimphu, offers a blend of modern and traditional Bhutanese culture. Visit the Tashichho Dzong, Buddha Dordenma statue, and local markets.\\n*   **Punakha:** Known for its beautiful Punakha Dzong (located at the confluence of two rivers) and warmer climate, Punakha is a great place to visit in the winter.\\n*   **Bumthang:** Often called the \"spiritual heartland\" of Bhutan, Bumthang is a valley with numerous ancient temples and monasteries. It\\'s ideal for those interested in Buddhist history and culture.\\n*   **Haa Valley:** A relatively less-visited valley that offers a more authentic and rural Bhutanese experience. It\\'s known for its stunning natural beauty and traditional lifestyle.\\n\\nGive me more information about your interests, and I can provide a more tailored recommendation!'"
      ]
     },
     "execution_count": 34,
     "metadata": {},
     "output_type": "execute_result"
    }
   ],
   "source": [
    "response=model.invoke(prompt)\n",
    "response.content"
   ]
  },
  {
   "cell_type": "code",
   "execution_count": 35,
   "id": "bb7c9b03-53cf-4ade-901f-22fb9e691249",
   "metadata": {},
   "outputs": [
    {
     "name": "stdout",
     "output_type": "stream",
     "text": [
      "messages=[HumanMessage(content='Suggest me name of 1 place to travel in Budapest in month December', additional_kwargs={}, response_metadata={})]\n"
     ]
    }
   ],
   "source": [
    "prompt_template = ChatPromptTemplate.from_template(\"Suggest me name of 1 place to travel in {country} in month {month}\")\n",
    "prompt = prompt_template.invoke({\"country\": \"Budapest\", \"month\": \"December\"})\n",
    "print(prompt)"
   ]
  },
  {
   "cell_type": "code",
   "execution_count": 36,
   "id": "e70aa9c4-ae2a-4869-a571-ff6193839fa4",
   "metadata": {},
   "outputs": [
    {
     "data": {
      "text/plain": [
       "\"In December, a must-see in Budapest is the **Christmas Fair at Vörösmarty Square**.\\n\\nIt's a classic, and for good reason!  The square transforms into a festive wonderland with:\\n\\n*   **Charming wooden stalls:** Selling handcrafted gifts, ornaments, and traditional Hungarian treats.\\n*   **Delicious food and drinks:** Warm up with mulled wine, chimney cake (kürtőskalács), sausages, and other seasonal goodies.\\n*   **Live music and entertainment:** Enjoy folk music, carol singers, and other performances.\\n*   **A magical atmosphere:** The twinkling lights, the aroma of spices, and the general cheer create a truly special holiday experience.\\n\\nIt's the perfect place to soak up the Christmas spirit in Budapest.\""
      ]
     },
     "execution_count": 36,
     "metadata": {},
     "output_type": "execute_result"
    }
   ],
   "source": [
    "response=model.invoke(prompt)\n",
    "response.content"
   ]
  },
  {
   "cell_type": "code",
   "execution_count": null,
   "id": "ddd4097b-6469-4bba-9d9a-de0732c3a126",
   "metadata": {},
   "outputs": [],
   "source": []
  }
 ],
 "metadata": {
  "kernelspec": {
   "display_name": "Python 3 (ipykernel)",
   "language": "python",
   "name": "python3"
  },
  "language_info": {
   "codemirror_mode": {
    "name": "ipython",
    "version": 3
   },
   "file_extension": ".py",
   "mimetype": "text/x-python",
   "name": "python",
   "nbconvert_exporter": "python",
   "pygments_lexer": "ipython3",
   "version": "3.13.3"
  }
 },
 "nbformat": 4,
 "nbformat_minor": 5
}
